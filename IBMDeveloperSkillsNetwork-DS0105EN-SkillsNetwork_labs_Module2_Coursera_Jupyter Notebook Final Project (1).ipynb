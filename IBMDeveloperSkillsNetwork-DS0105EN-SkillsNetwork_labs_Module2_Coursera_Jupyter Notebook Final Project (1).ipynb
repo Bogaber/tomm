{
  "metadata": {
    "language_info": {
      "codemirror_mode": {
        "name": "python",
        "version": 3
      },
      "file_extension": ".py",
      "mimetype": "text/x-python",
      "name": "python",
      "nbconvert_exporter": "python",
      "pygments_lexer": "ipython3",
      "version": "3.8"
    },
    "kernelspec": {
      "name": "python",
      "display_name": "Pyolite",
      "language": "python"
    }
  },
  "nbformat_minor": 4,
  "nbformat": 4,
  "cells": [
    {
      "cell_type": "markdown",
      "source": "# My Jupyter Notebook on IBM Watson Studio #",
      "metadata": {}
    },
    {
      "cell_type": "markdown",
      "source": "**My name is Haider Alsalman**\n<br>\nI want to work as a Data Scientist or at least use some of Data Scientists'tools",
      "metadata": {}
    },
    {
      "cell_type": "markdown",
      "source": "**_I am interested in data science because it is the future job and I have previous skills I can transfer to it_**",
      "metadata": {}
    },
    {
      "cell_type": "markdown",
      "source": "### The following code test a formula to convert 100 degree Celsius to Fahrenheit  ###",
      "metadata": {}
    },
    {
      "cell_type": "code",
      "source": "def Fahrenheit(c):\n    return (c*9/5)+32\nFahrenheit(100)",
      "metadata": {
        "trusted": true
      },
      "execution_count": 15,
      "outputs": [
        {
          "execution_count": 15,
          "output_type": "execute_result",
          "data": {
            "text/plain": "212.0"
          },
          "metadata": {}
        }
      ]
    },
    {
      "cell_type": "markdown",
      "source": "| Gender| First Name |\n| :- | -: |\n| Male | Adam |\n| Female | Monica |\n\n* Pens\n* Books\n* Rulers\n* Erasers\n\n![image of flower](https://images.freecreatives.com/wp-content/uploads/2015/06/beautiful-anture-desktop-background-wallpaper.jpg)\n",
      "metadata": {}
    }
  ]
}